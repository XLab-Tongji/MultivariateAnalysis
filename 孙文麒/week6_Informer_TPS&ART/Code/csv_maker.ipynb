{
 "metadata": {
  "language_info": {
   "codemirror_mode": {
    "name": "ipython",
    "version": 3
   },
   "file_extension": ".py",
   "mimetype": "text/x-python",
   "name": "python",
   "nbconvert_exporter": "python",
   "pygments_lexer": "ipython3",
   "version": "3.8.3-final"
  },
  "orig_nbformat": 2,
  "kernelspec": {
   "name": "python383jvsc74a57bd04a7dc4b74fe3b03c25c5a73e1b23646df3390b20c544c689cc2bf004b219ead8",
   "display_name": "Python 3.8.3 64-bit (conda)"
  },
  "metadata": {
   "interpreter": {
    "hash": "4a7dc4b74fe3b03c25c5a73e1b23646df3390b20c544c689cc2bf004b219ead8"
   }
  }
 },
 "nbformat": 4,
 "nbformat_minor": 2,
 "cells": [
  {
   "cell_type": "code",
   "execution_count": 1,
   "metadata": {},
   "outputs": [],
   "source": [
    "import pandas as pd\n",
    "import os"
   ]
  },
  {
   "cell_type": "code",
   "execution_count": 4,
   "metadata": {},
   "outputs": [],
   "source": [
    "df = pd.read_csv('../Data/ART_TPS.csv',nrows=432000)"
   ]
  },
  {
   "cell_type": "code",
   "execution_count": 5,
   "metadata": {},
   "outputs": [
    {
     "output_type": "execute_result",
     "data": {
      "text/plain": [
       "                  date       ART  TPS\n",
       "0  2015-01-01 06:00:00  0.040652   72\n",
       "1  2015-01-01 06:01:00  0.034940  181\n",
       "2  2015-01-01 06:02:00  0.034568  131\n",
       "3  2015-01-01 06:03:00  0.030225  144\n",
       "4  2015-01-01 06:04:00  0.033751  176"
      ],
      "text/html": "<div>\n<style scoped>\n    .dataframe tbody tr th:only-of-type {\n        vertical-align: middle;\n    }\n\n    .dataframe tbody tr th {\n        vertical-align: top;\n    }\n\n    .dataframe thead th {\n        text-align: right;\n    }\n</style>\n<table border=\"1\" class=\"dataframe\">\n  <thead>\n    <tr style=\"text-align: right;\">\n      <th></th>\n      <th>date</th>\n      <th>ART</th>\n      <th>TPS</th>\n    </tr>\n  </thead>\n  <tbody>\n    <tr>\n      <th>0</th>\n      <td>2015-01-01 06:00:00</td>\n      <td>0.040652</td>\n      <td>72</td>\n    </tr>\n    <tr>\n      <th>1</th>\n      <td>2015-01-01 06:01:00</td>\n      <td>0.034940</td>\n      <td>181</td>\n    </tr>\n    <tr>\n      <th>2</th>\n      <td>2015-01-01 06:02:00</td>\n      <td>0.034568</td>\n      <td>131</td>\n    </tr>\n    <tr>\n      <th>3</th>\n      <td>2015-01-01 06:03:00</td>\n      <td>0.030225</td>\n      <td>144</td>\n    </tr>\n    <tr>\n      <th>4</th>\n      <td>2015-01-01 06:04:00</td>\n      <td>0.033751</td>\n      <td>176</td>\n    </tr>\n  </tbody>\n</table>\n</div>"
     },
     "metadata": {},
     "execution_count": 5
    }
   ],
   "source": [
    "df.head()"
   ]
  },
  {
   "cell_type": "code",
   "execution_count": 7,
   "metadata": {},
   "outputs": [],
   "source": [
    "df2 = df.loc[[i for j, i in enumerate(df.index) if j % 10 == 0]]"
   ]
  },
  {
   "cell_type": "code",
   "execution_count": 8,
   "metadata": {},
   "outputs": [
    {
     "output_type": "execute_result",
     "data": {
      "text/plain": [
       "                    date       ART    TPS\n",
       "0    2015-01-01 06:00:00  0.040652     72\n",
       "10   2015-01-01 06:10:00  0.029742    234\n",
       "20   2015-01-01 06:20:00  0.027795    256\n",
       "30   2015-01-01 06:30:00  0.041529    178\n",
       "40   2015-01-01 06:40:00  0.029053    356\n",
       "50   2015-01-01 06:50:00  0.027905    349\n",
       "60   2015-01-01 07:00:00  0.036553    460\n",
       "70   2015-01-01 07:10:00  0.025745    563\n",
       "80   2015-01-01 07:20:00  0.054337    653\n",
       "90   2015-01-01 07:30:00  0.038327    721\n",
       "100  2015-01-01 07:40:00  0.027604   1112\n",
       "110  2015-01-01 07:50:00  0.040363   1599\n",
       "120  2015-01-01 08:00:00  0.026410   1967\n",
       "130  2015-01-01 08:10:00  0.030377   3101\n",
       "140  2015-01-01 08:20:00  0.038193   4227\n",
       "150  2015-01-01 08:30:00  0.028553   6088\n",
       "160  2015-01-01 08:40:00  0.034176   8892\n",
       "170  2015-01-01 08:50:00  0.039953  11126\n",
       "180  2015-01-01 09:00:00  0.044612  13204\n",
       "190  2015-01-01 09:10:00  0.040120  15224"
      ],
      "text/html": "<div>\n<style scoped>\n    .dataframe tbody tr th:only-of-type {\n        vertical-align: middle;\n    }\n\n    .dataframe tbody tr th {\n        vertical-align: top;\n    }\n\n    .dataframe thead th {\n        text-align: right;\n    }\n</style>\n<table border=\"1\" class=\"dataframe\">\n  <thead>\n    <tr style=\"text-align: right;\">\n      <th></th>\n      <th>date</th>\n      <th>ART</th>\n      <th>TPS</th>\n    </tr>\n  </thead>\n  <tbody>\n    <tr>\n      <th>0</th>\n      <td>2015-01-01 06:00:00</td>\n      <td>0.040652</td>\n      <td>72</td>\n    </tr>\n    <tr>\n      <th>10</th>\n      <td>2015-01-01 06:10:00</td>\n      <td>0.029742</td>\n      <td>234</td>\n    </tr>\n    <tr>\n      <th>20</th>\n      <td>2015-01-01 06:20:00</td>\n      <td>0.027795</td>\n      <td>256</td>\n    </tr>\n    <tr>\n      <th>30</th>\n      <td>2015-01-01 06:30:00</td>\n      <td>0.041529</td>\n      <td>178</td>\n    </tr>\n    <tr>\n      <th>40</th>\n      <td>2015-01-01 06:40:00</td>\n      <td>0.029053</td>\n      <td>356</td>\n    </tr>\n    <tr>\n      <th>50</th>\n      <td>2015-01-01 06:50:00</td>\n      <td>0.027905</td>\n      <td>349</td>\n    </tr>\n    <tr>\n      <th>60</th>\n      <td>2015-01-01 07:00:00</td>\n      <td>0.036553</td>\n      <td>460</td>\n    </tr>\n    <tr>\n      <th>70</th>\n      <td>2015-01-01 07:10:00</td>\n      <td>0.025745</td>\n      <td>563</td>\n    </tr>\n    <tr>\n      <th>80</th>\n      <td>2015-01-01 07:20:00</td>\n      <td>0.054337</td>\n      <td>653</td>\n    </tr>\n    <tr>\n      <th>90</th>\n      <td>2015-01-01 07:30:00</td>\n      <td>0.038327</td>\n      <td>721</td>\n    </tr>\n    <tr>\n      <th>100</th>\n      <td>2015-01-01 07:40:00</td>\n      <td>0.027604</td>\n      <td>1112</td>\n    </tr>\n    <tr>\n      <th>110</th>\n      <td>2015-01-01 07:50:00</td>\n      <td>0.040363</td>\n      <td>1599</td>\n    </tr>\n    <tr>\n      <th>120</th>\n      <td>2015-01-01 08:00:00</td>\n      <td>0.026410</td>\n      <td>1967</td>\n    </tr>\n    <tr>\n      <th>130</th>\n      <td>2015-01-01 08:10:00</td>\n      <td>0.030377</td>\n      <td>3101</td>\n    </tr>\n    <tr>\n      <th>140</th>\n      <td>2015-01-01 08:20:00</td>\n      <td>0.038193</td>\n      <td>4227</td>\n    </tr>\n    <tr>\n      <th>150</th>\n      <td>2015-01-01 08:30:00</td>\n      <td>0.028553</td>\n      <td>6088</td>\n    </tr>\n    <tr>\n      <th>160</th>\n      <td>2015-01-01 08:40:00</td>\n      <td>0.034176</td>\n      <td>8892</td>\n    </tr>\n    <tr>\n      <th>170</th>\n      <td>2015-01-01 08:50:00</td>\n      <td>0.039953</td>\n      <td>11126</td>\n    </tr>\n    <tr>\n      <th>180</th>\n      <td>2015-01-01 09:00:00</td>\n      <td>0.044612</td>\n      <td>13204</td>\n    </tr>\n    <tr>\n      <th>190</th>\n      <td>2015-01-01 09:10:00</td>\n      <td>0.040120</td>\n      <td>15224</td>\n    </tr>\n  </tbody>\n</table>\n</div>"
     },
     "metadata": {},
     "execution_count": 8
    }
   ],
   "source": [
    "df2.head(20)"
   ]
  },
  {
   "cell_type": "code",
   "execution_count": 10,
   "metadata": {},
   "outputs": [],
   "source": [
    "df2.to_csv('../Data/ART_TPS_10m_p10min.csv', index=False)"
   ]
  },
  {
   "cell_type": "code",
   "execution_count": 12,
   "metadata": {},
   "outputs": [
    {
     "output_type": "execute_result",
     "data": {
      "text/plain": [
       "                        date   TPS       ART\n",
       "0        2015-01-01 06:00:00    72  0.040652\n",
       "1        2015-01-01 06:01:00   181  0.034940\n",
       "2        2015-01-01 06:02:00   131  0.034568\n",
       "3        2015-01-01 06:03:00   144  0.030225\n",
       "4        2015-01-01 06:04:00   176  0.033751\n",
       "...                      ...   ...       ...\n",
       "1044155  2018-01-01 05:58:00   877  0.035228\n",
       "1044156  2018-01-01 05:59:00   744  0.034766\n",
       "1044157  2018-01-01 06:00:00   848  0.035314\n",
       "1044158  2018-01-01 06:01:00  1179  0.043263\n",
       "1044159  2018-01-01 06:02:00   557  0.041368\n",
       "\n",
       "[1044160 rows x 3 columns]"
      ],
      "text/html": "<div>\n<style scoped>\n    .dataframe tbody tr th:only-of-type {\n        vertical-align: middle;\n    }\n\n    .dataframe tbody tr th {\n        vertical-align: top;\n    }\n\n    .dataframe thead th {\n        text-align: right;\n    }\n</style>\n<table border=\"1\" class=\"dataframe\">\n  <thead>\n    <tr style=\"text-align: right;\">\n      <th></th>\n      <th>date</th>\n      <th>TPS</th>\n      <th>ART</th>\n    </tr>\n  </thead>\n  <tbody>\n    <tr>\n      <th>0</th>\n      <td>2015-01-01 06:00:00</td>\n      <td>72</td>\n      <td>0.040652</td>\n    </tr>\n    <tr>\n      <th>1</th>\n      <td>2015-01-01 06:01:00</td>\n      <td>181</td>\n      <td>0.034940</td>\n    </tr>\n    <tr>\n      <th>2</th>\n      <td>2015-01-01 06:02:00</td>\n      <td>131</td>\n      <td>0.034568</td>\n    </tr>\n    <tr>\n      <th>3</th>\n      <td>2015-01-01 06:03:00</td>\n      <td>144</td>\n      <td>0.030225</td>\n    </tr>\n    <tr>\n      <th>4</th>\n      <td>2015-01-01 06:04:00</td>\n      <td>176</td>\n      <td>0.033751</td>\n    </tr>\n    <tr>\n      <th>...</th>\n      <td>...</td>\n      <td>...</td>\n      <td>...</td>\n    </tr>\n    <tr>\n      <th>1044155</th>\n      <td>2018-01-01 05:58:00</td>\n      <td>877</td>\n      <td>0.035228</td>\n    </tr>\n    <tr>\n      <th>1044156</th>\n      <td>2018-01-01 05:59:00</td>\n      <td>744</td>\n      <td>0.034766</td>\n    </tr>\n    <tr>\n      <th>1044157</th>\n      <td>2018-01-01 06:00:00</td>\n      <td>848</td>\n      <td>0.035314</td>\n    </tr>\n    <tr>\n      <th>1044158</th>\n      <td>2018-01-01 06:01:00</td>\n      <td>1179</td>\n      <td>0.043263</td>\n    </tr>\n    <tr>\n      <th>1044159</th>\n      <td>2018-01-01 06:02:00</td>\n      <td>557</td>\n      <td>0.041368</td>\n    </tr>\n  </tbody>\n</table>\n<p>1044160 rows × 3 columns</p>\n</div>"
     },
     "metadata": {},
     "execution_count": 12
    }
   ],
   "source": [
    "df.drop(columns='NaN')"
   ]
  },
  {
   "cell_type": "code",
   "execution_count": 13,
   "metadata": {},
   "outputs": [],
   "source": [
    "columns_titles = [\"date\",\"ART\",\"TPS\"]\n",
    "df=df.reindex(columns=columns_titles)"
   ]
  },
  {
   "cell_type": "code",
   "execution_count": 14,
   "metadata": {},
   "outputs": [
    {
     "output_type": "execute_result",
     "data": {
      "text/plain": [
       "                  date       ART  TPS\n",
       "0  2015-01-01 06:00:00  0.040652   72\n",
       "1  2015-01-01 06:01:00  0.034940  181\n",
       "2  2015-01-01 06:02:00  0.034568  131\n",
       "3  2015-01-01 06:03:00  0.030225  144\n",
       "4  2015-01-01 06:04:00  0.033751  176"
      ],
      "text/html": "<div>\n<style scoped>\n    .dataframe tbody tr th:only-of-type {\n        vertical-align: middle;\n    }\n\n    .dataframe tbody tr th {\n        vertical-align: top;\n    }\n\n    .dataframe thead th {\n        text-align: right;\n    }\n</style>\n<table border=\"1\" class=\"dataframe\">\n  <thead>\n    <tr style=\"text-align: right;\">\n      <th></th>\n      <th>date</th>\n      <th>ART</th>\n      <th>TPS</th>\n    </tr>\n  </thead>\n  <tbody>\n    <tr>\n      <th>0</th>\n      <td>2015-01-01 06:00:00</td>\n      <td>0.040652</td>\n      <td>72</td>\n    </tr>\n    <tr>\n      <th>1</th>\n      <td>2015-01-01 06:01:00</td>\n      <td>0.034940</td>\n      <td>181</td>\n    </tr>\n    <tr>\n      <th>2</th>\n      <td>2015-01-01 06:02:00</td>\n      <td>0.034568</td>\n      <td>131</td>\n    </tr>\n    <tr>\n      <th>3</th>\n      <td>2015-01-01 06:03:00</td>\n      <td>0.030225</td>\n      <td>144</td>\n    </tr>\n    <tr>\n      <th>4</th>\n      <td>2015-01-01 06:04:00</td>\n      <td>0.033751</td>\n      <td>176</td>\n    </tr>\n  </tbody>\n</table>\n</div>"
     },
     "metadata": {},
     "execution_count": 14
    }
   ],
   "source": [
    "df.head()"
   ]
  },
  {
   "cell_type": "code",
   "execution_count": 6,
   "metadata": {},
   "outputs": [],
   "source": [
    "df.to_csv('../Data/ART_TPS_10m.csv', index=False)"
   ]
  },
  {
   "cell_type": "code",
   "execution_count": null,
   "metadata": {},
   "outputs": [],
   "source": []
  }
 ]
}